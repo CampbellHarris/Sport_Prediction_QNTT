{
 "cells": [
  {
   "cell_type": "code",
   "execution_count": 1,
   "metadata": {},
   "outputs": [],
   "source": [
    "import pandas as pd\n",
    "import numpy as np\n",
    "import selenium \n",
    "from selenium import webdriver\n",
    "from selenium.webdriver import chrome\n",
    "from selenium.webdriver.chrome import options\n",
    "from selenium.webdriver.chrome.service import Service as ChromeService\n",
    "from selenium.webdriver.common.by import By\n",
    "from bs4 import BeautifulSoup\n",
    "import time\n",
    "import datetime\n",
    "from datetime import datetime as dt\n",
    "import re"
   ]
  },
  {
   "attachments": {},
   "cell_type": "markdown",
   "metadata": {},
   "source": [
    ":: note :: \\n\n",
    "EU odds := the dollar staked is built into the return of the odds \\n\n",
    "ex. [1.66] means if you bet $1 and win, you recieve $1.66 \\n\n",
    "ex. [2.01] bet $1 and win, recieve $2.01 \\n\n",
    "ex. [3.00] represents the equivalent of the 2/1 fractional price \\n"
   ]
  },
  {
   "cell_type": "code",
   "execution_count": 2,
   "metadata": {},
   "outputs": [
    {
     "name": "stderr",
     "output_type": "stream",
     "text": [
      "Error getting version of chromedriver 115. Retrying with chromedriver 114 (attempt 1/5)\n"
     ]
    },
    {
     "name": "stdout",
     "output_type": "stream",
     "text": [
      "error ocurred\n",
      "error ocurred\n",
      "error ocurred\n"
     ]
    }
   ],
   "source": [
    "page = 43\n",
    "driver = webdriver.Chrome()\n",
    "link = \"https://www.oddsportal.com/baseball/usa/mlb-2022/results/#/page/{}\".format(page)\n",
    "driver.get(link)\n",
    "codes = list()\n",
    "texts = list()\n",
    "ids = driver.find_elements(By.XPATH, '//*[@id]')\n",
    "for ii in ids:\n",
    "    #print ii.tag_name\n",
    "    codes.append(ii.get_attribute('id'))   # id name as string\n",
    "    try:\n",
    "        texts.append(driver.find_element(By.ID, ii.get_attribute('id')).text)\n",
    "    except:\n",
    "        print(\"error ocurred\")\n",
    "driver.quit()\n",
    "\n",
    "f = open(\"page{}.txt\".format(page), \"w\")\n",
    "for t in texts:\n",
    "    f.write(t)\n",
    "f.close()\n"
   ]
  },
  {
   "cell_type": "code",
   "execution_count": 15,
   "metadata": {},
   "outputs": [],
   "source": []
  },
  {
   "cell_type": "code",
   "execution_count": 9,
   "metadata": {},
   "outputs": [
    {
     "name": "stdout",
     "output_type": "stream",
     "text": [
      "258\n"
     ]
    }
   ],
   "source": [
    "\n",
    "f = open(\"page54.txt\")\n",
    "lines = f.readlines()\n",
    "\n",
    "\n",
    "\n",
    "timeGame = list()\n",
    "team1Name = list()\n",
    "team1Score = list()\n",
    "team2Score = list()\n",
    "team2Name = list()\n",
    "team1Odds = list()\n",
    "team2Odds = list()\n",
    "\n",
    "x = 0\n",
    "\n",
    "while x < 248:\n",
    "    x += 1\n",
    "    timeGame.append(lines[x])\n",
    "    x += 1\n",
    "    team1Name.append(lines[x])\n",
    "    x += 1\n",
    "    team1Score.append(lines[x])\n",
    "    x += 2\n",
    "    team2Score.append(lines[x])\n",
    "    x += 1\n",
    "    team2Name.append(lines[x])\n",
    "    x += 1\n",
    "    team1Odds.append(lines[x])\n",
    "    x += 1\n",
    "    team2Odds.append(lines[x])\n",
    "    x += 1\n",
    "\n",
    "\n",
    "print(team1Odds)"
   ]
  }
 ],
 "metadata": {
  "kernelspec": {
   "display_name": "base",
   "language": "python",
   "name": "python3"
  },
  "language_info": {
   "codemirror_mode": {
    "name": "ipython",
    "version": 3
   },
   "file_extension": ".py",
   "mimetype": "text/x-python",
   "name": "python",
   "nbconvert_exporter": "python",
   "pygments_lexer": "ipython3",
   "version": "3.10.9"
  },
  "orig_nbformat": 4
 },
 "nbformat": 4,
 "nbformat_minor": 2
}
