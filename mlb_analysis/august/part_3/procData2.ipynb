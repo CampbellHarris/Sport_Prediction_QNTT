{
 "cells": [
  {
   "cell_type": "code",
   "execution_count": null,
   "metadata": {},
   "outputs": [],
   "source": [
    "import pandas as pd\n",
    "import numpy as np\n",
    "from RefrenceDict import teams\n",
    "import json\n",
    "\n",
    "# insert file.csv into dataframe\n",
    "df = pd.read_csv('mlb_odds_data_2022.csv', index_col=0)\n",
    "\n",
    "# format data nicer\n",
    "result = []\n",
    "winningOdds = []\n",
    "for tm1, tm2, sc1, sc2, od1, od2 in zip(df['team1Name'], df['team2Name'], df['team1Score'], df['team2Score'], df['team1Odds'], df['team2Odds']):\n",
    "    if (sc1 > sc2):\n",
    "        result.append(tm1)\n",
    "        winningOdds.append(od1)\n",
    "    else:\n",
    "        result.append(tm2)\n",
    "        winningOdds.append(od2)\n",
    "df['result'] = result\n",
    "df['winningOdds'] = winningOdds\n",
    "\n",
    "# disregard the risky bets\n"
   ]
  }
 ],
 "metadata": {
  "language_info": {
   "name": "python"
  },
  "orig_nbformat": 4
 },
 "nbformat": 4,
 "nbformat_minor": 2
}
